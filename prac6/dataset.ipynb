{
 "cells": [
  {
   "cell_type": "markdown",
   "metadata": {},
   "source": [
    "# Ссылка на датасет на kaggle.com\n",
    "https://www.kaggle.com/datasets/ismetsemedov/transactions/data"
   ]
  },
  {
   "cell_type": "code",
   "execution_count": 156,
   "metadata": {},
   "outputs": [],
   "source": [
    "import pandas as pd"
   ]
  },
  {
   "cell_type": "markdown",
   "metadata": {},
   "source": [
    "### 1. Загрузить данные"
   ]
  },
  {
   "cell_type": "code",
   "execution_count": 157,
   "metadata": {},
   "outputs": [],
   "source": [
    "data = pd.read_csv('partial_fraud_data.csv')"
   ]
  },
  {
   "cell_type": "markdown",
   "metadata": {},
   "source": [
    "### 2a. Объем памяти, который занимает файл на диске"
   ]
  },
  {
   "cell_type": "code",
   "execution_count": 158,
   "metadata": {},
   "outputs": [],
   "source": [
    "import os\n",
    "\n",
    "file_size = os.path.getsize('partial_fraud_data.csv')\n",
    "with open('stats/output.txt', 'w', encoding='utf-8') as f:\n",
    "    f.write(f\"2a. Объем памяти файла на диске: {file_size / 1024:.2f} КБ ({file_size / (1024 * 1024):.2f} МБ)\\n\")"
   ]
  },
  {
   "cell_type": "markdown",
   "metadata": {},
   "source": [
    "### 2b. Объем памяти, который занимает набор данных при загрузке в память"
   ]
  },
  {
   "cell_type": "code",
   "execution_count": 159,
   "metadata": {},
   "outputs": [],
   "source": [
    "with open('stats/output.txt', 'a', encoding='utf-8') as f:\n",
    "    f.writelines(f\"2b. Объем памяти на диске: {sum(data.memory_usage(deep=True)) // 1024:.2f} КБ\\n\")"
   ]
  },
  {
   "cell_type": "markdown",
   "metadata": {},
   "source": [
    "### 2c. Для каждой колонки: объем памяти, доля от общей, тип данных"
   ]
  },
  {
   "cell_type": "code",
   "execution_count": 160,
   "metadata": {},
   "outputs": [],
   "source": [
    "column_memory = data.memory_usage(deep=True)\n",
    "total_memory = column_memory.sum()\n",
    "\n",
    "with open('stats/output.txt', 'a', encoding='utf-8') as f:\n",
    "    f.write('2c. По колонкам:\\n')\n",
    "    for col in data.columns:\n",
    "        col_memory = column_memory[col]\n",
    "        col_type = data[col].dtype\n",
    "        mem_percentage = (col_memory / total_memory) * 100\n",
    "        f.write(f\"- Столбец: {col}\\n\")\n",
    "        f.write(f\"- Объем памяти: {col_memory / 1024:.2f} КБ\\n\")\n",
    "        f.write(f\"- Тип данных: {col_type}\\n\")\n",
    "        f.write(f\"- Доля от общего объема памяти: {mem_percentage:.2f}%\\n\\n\")"
   ]
  },
  {
   "cell_type": "markdown",
   "metadata": {},
   "source": [
    "### 3. Сортировка полученного набора по занимаемому объему памяти"
   ]
  },
  {
   "cell_type": "code",
   "execution_count": null,
   "metadata": {},
   "outputs": [],
   "source": [
    "import json\n",
    "\n",
    "columns_stat = []\n",
    "\n",
    "for col in data.columns:\n",
    "    \n",
    "    col_memory = column_memory[col]\n",
    "    col_type = data[col].dtype\n",
    "    mem_percentage = (col_memory / total_memory) * 100\n",
    "    \n",
    "    columns_stat.append({\n",
    "        \"column\": col,\n",
    "        \"memory_kb\": round(col_memory / 1024, 2),\n",
    "        \"mem_percentage\": round(mem_percentage, 2),\n",
    "        \"col_type\": str(col_type),\n",
    "        \"note\": \"Statistics w/o optimization\"\n",
    "    })\n",
    "\n",
    "columns_stat_sorted = sorted(columns_stat, key=lambda x: x['memory_kb'], reverse=True)\n",
    "\n",
    "with open('stats/columns_stat.json', 'w', encoding='utf-8') as f:\n",
    "    json.dump(columns_stat_sorted, f, ensure_ascii=False, indent=4)"
   ]
  },
  {
   "cell_type": "markdown",
   "metadata": {},
   "source": [
    "### 4. Приобразование по object, уникальность < 50%"
   ]
  },
  {
   "cell_type": "code",
   "execution_count": 162,
   "metadata": {},
   "outputs": [],
   "source": [
    "for col in data.select_dtypes(include=[\"object\"]).columns:\n",
    "    unique_val = data[col].nunique()\n",
    "    unique_ratio = unique_val / len(data)\n",
    "\n",
    "    if unique_ratio < 0.5:\n",
    "        data[col] = data[col].astype(\"category\")"
   ]
  },
  {
   "cell_type": "markdown",
   "metadata": {},
   "source": [
    "### 5. Понижающее преобразование по типу int"
   ]
  },
  {
   "cell_type": "code",
   "execution_count": 163,
   "metadata": {},
   "outputs": [],
   "source": [
    "for col in data.select_dtypes(include=[\"int64\"]).columns:\n",
    "    data[col] = pd.to_numeric(data[col], downcast=\"integer\")"
   ]
  },
  {
   "cell_type": "markdown",
   "metadata": {},
   "source": [
    "### 6. Понижающее преобразование по типу float"
   ]
  },
  {
   "cell_type": "code",
   "execution_count": 164,
   "metadata": {},
   "outputs": [],
   "source": [
    "for col in data.select_dtypes(include=[\"float64\"]).columns:\n",
    "    data[col] = pd.to_numeric(data[col], downcast=\"float\")"
   ]
  },
  {
   "cell_type": "code",
   "execution_count": null,
   "metadata": {},
   "outputs": [],
   "source": [
    "data.dtypes"
   ]
  },
  {
   "cell_type": "markdown",
   "metadata": {},
   "source": [
    "### 7. Повторный анализ"
   ]
  },
  {
   "cell_type": "markdown",
   "metadata": {},
   "source": [
    "#### Объем памяти на диске"
   ]
  },
  {
   "cell_type": "code",
   "execution_count": 166,
   "metadata": {},
   "outputs": [],
   "source": [
    "import os\n",
    "\n",
    "file_size = os.path.getsize('new_fraud_data.csv')\n",
    "with open('stats/output_after_optimization.txt', 'w', encoding='utf-8') as f:\n",
    "    f.write(f\"2a. Объем памяти файла на диске: {file_size / 1024:.2f} КБ ({file_size / (1024 * 1024):.2f} МБ)\\n\")"
   ]
  },
  {
   "cell_type": "code",
   "execution_count": 167,
   "metadata": {},
   "outputs": [],
   "source": [
    "with open('stats/output_after_optimization.txt', 'a', encoding='utf-8') as f:\n",
    "    f.write(f\"2b. Объем памяти на диске: {sum(data.memory_usage(deep=True)) // 1024:.2f} КБ\\n\")"
   ]
  },
  {
   "cell_type": "code",
   "execution_count": 168,
   "metadata": {},
   "outputs": [],
   "source": [
    "column_memory = data.memory_usage(deep=True)\n",
    "total_memory = column_memory.sum()\n",
    "\n",
    "with open('stats/output_after_optimization.txt', 'a', encoding='utf-8') as f:\n",
    "    f.write('2c. По колонкам:\\n')\n",
    "    for col in data.columns:\n",
    "        col_memory = column_memory[col]\n",
    "        col_type = data[col].dtype\n",
    "        mem_percentage = (col_memory / total_memory) * 100\n",
    "        f.write(f\"- Столбец: {col}\\n\")\n",
    "        f.write(f\"- Объем памяти: {col_memory / 1024:.2f} КБ\\n\")\n",
    "        f.write(f\"- Тип данных: {col_type}\\n\")\n",
    "        f.write(f\"- Доля от общего объема памяти: {mem_percentage:.2f}%\\n\\n\")"
   ]
  }
 ],
 "metadata": {
  "kernelspec": {
   "display_name": ".venv",
   "language": "python",
   "name": "python3"
  },
  "language_info": {
   "codemirror_mode": {
    "name": "ipython",
    "version": 3
   },
   "file_extension": ".py",
   "mimetype": "text/x-python",
   "name": "python",
   "nbconvert_exporter": "python",
   "pygments_lexer": "ipython3",
   "version": "3.11.11"
  }
 },
 "nbformat": 4,
 "nbformat_minor": 2
}
